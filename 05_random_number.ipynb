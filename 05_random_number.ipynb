{
  "nbformat": 4,
  "nbformat_minor": 0,
  "metadata": {
    "colab": {
      "provenance": [],
      "authorship_tag": "ABX9TyMq10oOOMO8UvT7qFM+iXVq",
      "include_colab_link": true
    },
    "kernelspec": {
      "name": "python3",
      "display_name": "Python 3"
    },
    "language_info": {
      "name": "python"
    }
  },
  "cells": [
    {
      "cell_type": "markdown",
      "metadata": {
        "id": "view-in-github",
        "colab_type": "text"
      },
      "source": [
        "<a href=\"https://colab.research.google.com/github/Aayesha-Murtaza/Project-4-Assignments/blob/main/05_random_number.ipynb\" target=\"_parent\"><img src=\"https://colab.research.google.com/assets/colab-badge.svg\" alt=\"Open In Colab\"/></a>"
      ]
    },
    {
      "cell_type": "code",
      "execution_count": 4,
      "metadata": {
        "colab": {
          "base_uri": "https://localhost:8080/"
        },
        "id": "30s_5W_A5cpQ",
        "outputId": "f40569f3-c004-4d2d-d6a4-434500d6de34"
      },
      "outputs": [
        {
          "output_type": "stream",
          "name": "stdout",
          "text": [
            "53\n",
            "57\n",
            "50\n",
            "51\n",
            "10\n",
            "54\n",
            "58\n",
            "17\n",
            "73\n",
            "59\n"
          ]
        }
      ],
      "source": [
        "\n",
        "import random\n",
        "\n",
        "N_NUMBERS : int = 10\n",
        "MIN_VALUE : int = 1\n",
        "MAX_VALUE : int = 100\n",
        "\n",
        "def main():\n",
        "    for i in range(N_NUMBERS):\n",
        "      print(random.randint(MIN_VALUE, MAX_VALUE))\n",
        "\n",
        "if __name__ == '__main__':\n",
        "    main()"
      ]
    }
  ]
}