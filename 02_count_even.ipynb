{
  "nbformat": 4,
  "nbformat_minor": 0,
  "metadata": {
    "colab": {
      "provenance": [],
      "authorship_tag": "ABX9TyP2or78MtkHVfFqaFpmswsn",
      "include_colab_link": true
    },
    "kernelspec": {
      "name": "python3",
      "display_name": "Python 3"
    },
    "language_info": {
      "name": "python"
    }
  },
  "cells": [
    {
      "cell_type": "markdown",
      "metadata": {
        "id": "view-in-github",
        "colab_type": "text"
      },
      "source": [
        "<a href=\"https://colab.research.google.com/github/Aayesha-Murtaza/Project-4-Assignments/blob/main/02_count_even.ipynb\" target=\"_parent\"><img src=\"https://colab.research.google.com/assets/colab-badge.svg\" alt=\"Open In Colab\"/></a>"
      ]
    },
    {
      "cell_type": "code",
      "execution_count": 1,
      "metadata": {
        "colab": {
          "base_uri": "https://localhost:8080/"
        },
        "id": "HYSBNRFdtcmT",
        "outputId": "ef93a5bd-a9c1-4b9e-f22d-865080718e25"
      },
      "outputs": [
        {
          "output_type": "stream",
          "name": "stdout",
          "text": [
            "Enter an integer or press enter to stop: 5\n",
            "Enter an integer or press enter to stop: 8\n",
            "Enter an integer or press enter to stop: 9\n",
            "Enter an integer or press enter to stop: \n",
            "1\n"
          ]
        }
      ],
      "source": [
        "\n",
        "def count_even(lst):\n",
        "    \"\"\"\n",
        "    Returns number of even numbers in list.\n",
        "    >>> count_even([1,2,3,4])\n",
        "    2\n",
        "    >>> count_even([1,3,5,7])\n",
        "    0\n",
        "    \"\"\"\n",
        "    count = 0  # Stores the count of even numbers in the list\n",
        "    for num in lst:  # Loop through the numbers in the list\n",
        "        if num % 2 == 0:  # If the current number in the list is even (divisible by 2)\n",
        "            count += 1  # Add one to our count!\n",
        "\n",
        "    print(count)  # Print out how many even numbers we counted above\n",
        "\n",
        "def get_list_of_ints():\n",
        "    \"\"\"\n",
        "    Reads in integers until the user presses enter and returns the resulting list.\n",
        "    \"\"\"\n",
        "    lst = []  # Make an empty list to store integers\n",
        "    user_input = input(\"Enter an integer or press enter to stop: \")  # Get user input for an integer\n",
        "    while user_input != \"\":  # While the user doesn't enter nothing...\n",
        "        lst.append(int(user_input))  # Cast the user input into an integer and add it to our list\n",
        "        user_input = i0nput(\"Enter an integer or press enter to stop: \")  # Get the next user input\n",
        "\n",
        "    return lst\n",
        "\n",
        "def main():\n",
        "    lst = get_list_of_ints()\n",
        "    count_even(lst)\n",
        "\n",
        "\n",
        "# There is no need to edit code beyond this point\n",
        "\n",
        "if __name__ == '__main__':\n",
        "    main()"
      ]
    }
  ]
}