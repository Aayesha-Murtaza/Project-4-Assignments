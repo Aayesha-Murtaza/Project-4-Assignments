{
  "nbformat": 4,
  "nbformat_minor": 0,
  "metadata": {
    "colab": {
      "provenance": [],
      "authorship_tag": "ABX9TyPqIeJcbmtLhjp/I/OcuKAp",
      "include_colab_link": true
    },
    "kernelspec": {
      "name": "python3",
      "display_name": "Python 3"
    },
    "language_info": {
      "name": "python"
    }
  },
  "cells": [
    {
      "cell_type": "markdown",
      "metadata": {
        "id": "view-in-github",
        "colab_type": "text"
      },
      "source": [
        "<a href=\"https://colab.research.google.com/github/Aayesha-Murtaza/Project-4-Assignments/blob/main/how_old_are_they.ipynb\" target=\"_parent\"><img src=\"https://colab.research.google.com/assets/colab-badge.svg\" alt=\"Open In Colab\"/></a>"
      ]
    },
    {
      "cell_type": "code",
      "execution_count": 1,
      "metadata": {
        "colab": {
          "base_uri": "https://localhost:8080/"
        },
        "id": "g99jEUOEI_b5",
        "outputId": "3de97792-0851-4949-9b44-70a0b449f351"
      },
      "outputs": [
        {
          "output_type": "stream",
          "name": "stdout",
          "text": [
            "Anton is 21\n",
            "Beth is 27\n",
            "Chen is 47\n",
            "Drew is 68\n",
            "Ethan is 47\n"
          ]
        }
      ],
      "source": [
        "def main():\n",
        "  anton = 21\n",
        "  beth = 6 + anton\n",
        "  chen = 20 + beth\n",
        "  drew = chen + anton\n",
        "  ethan = chen\n",
        "\n",
        "  print(f\"Anton is {anton}\")\n",
        "  print(f\"Beth is {beth}\")\n",
        "  print(f\"Chen is {chen}\")\n",
        "  print(f\"Drew is {drew}\")\n",
        "  print(f\"Ethan is {ethan}\")\n",
        "\n",
        "if __name__ == '__main__':\n",
        "    main()"
      ]
    },
    {
      "cell_type": "code",
      "source": [],
      "metadata": {
        "id": "B2bpDZL-KcMJ"
      },
      "execution_count": null,
      "outputs": []
    }
  ]
}