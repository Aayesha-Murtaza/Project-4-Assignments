{
  "nbformat": 4,
  "nbformat_minor": 0,
  "metadata": {
    "colab": {
      "provenance": [],
      "authorship_tag": "ABX9TyMHSX2cMwfDFu8paTpBdYU+",
      "include_colab_link": true
    },
    "kernelspec": {
      "name": "python3",
      "display_name": "Python 3"
    },
    "language_info": {
      "name": "python"
    }
  },
  "cells": [
    {
      "cell_type": "markdown",
      "metadata": {
        "id": "view-in-github",
        "colab_type": "text"
      },
      "source": [
        "<a href=\"https://colab.research.google.com/github/Aayesha-Murtaza/Project-4-Assignments/blob/main/00_count_nums.ipynb\" target=\"_parent\"><img src=\"https://colab.research.google.com/assets/colab-badge.svg\" alt=\"Open In Colab\"/></a>"
      ]
    },
    {
      "cell_type": "code",
      "execution_count": 1,
      "metadata": {
        "colab": {
          "base_uri": "https://localhost:8080/"
        },
        "id": "J-NtLmNL8ibj",
        "outputId": "a105f2d0-097f-4a78-fbd1-3810db5e70dd"
      },
      "outputs": [
        {
          "output_type": "stream",
          "name": "stdout",
          "text": [
            "Enter a number: 1\n",
            "Enter a number: 2\n",
            "Enter a number: 3\n",
            "Enter a number: 1\n",
            "Enter a number: 2\n",
            "Enter a number: 5\n",
            "Enter a number: \n",
            "1 appears 2 times.\n",
            "2 appears 2 times.\n",
            "3 appears 1 times.\n",
            "5 appears 1 times.\n"
          ]
        }
      ],
      "source": [
        "def get_user_numbers():\n",
        "    \"\"\"\n",
        "    Create an empty list.\n",
        "    Ask the user to input numbers and store them in a list.\n",
        "    Once they enter a blank line, break out of the loop and return the list.\n",
        "    \"\"\"\n",
        "    user_numbers = []\n",
        "    while True:\n",
        "        user_input = input(\"Enter a number: \")\n",
        "\n",
        "        # If the user enters a blank line, break out of the loop and stop asking for input\n",
        "        if user_input == \"\":\n",
        "            break\n",
        "\n",
        "        # convert the user input to an integer and add it to the list\n",
        "        num = int(user_input)\n",
        "        user_numbers.append(num)\n",
        "\n",
        "    return user_numbers\n",
        "\n",
        "def count_nums(num_lst):\n",
        "    \"\"\"\n",
        "    Create an empty dictionary.\n",
        "    Loop over the list of numbers.\n",
        "    If the number is not in the dictionary, add it as a key with a value of 1.\n",
        "    If the number is in the dictionary, increment its value by 1.\n",
        "    \"\"\"\n",
        "    num_dict = {}\n",
        "    for num in num_lst:\n",
        "      if num not in num_dict:\n",
        "        num_dict[num] = 1\n",
        "      else:\n",
        "        num_dict[num] += 1\n",
        "\n",
        "    return num_dict\n",
        "\n",
        "\n",
        "def print_counts(num_dict):\n",
        "    \"\"\"\n",
        "    Loop over the dictionary and print out each key and its value.\n",
        "    \"\"\"\n",
        "    for num in num_dict:\n",
        "        print(str(num) + \" appears \" + str(num_dict[num]) + \" times.\")\n",
        "\n",
        "\n",
        "def main():\n",
        "    \"\"\"\n",
        "    Ask the user to input numbers and store them in a list. Once they enter a blank line,\n",
        "    print out the number of times each number appeared in the list.\n",
        "    \"\"\"\n",
        "    user_numbers = get_user_numbers()\n",
        "    num_dict = count_nums(user_numbers)\n",
        "    print_counts(num_dict)\n",
        "\n",
        "\n",
        "# Python boilerplate.\n",
        "if __name__ == '__main__':\n",
        "    main()"
      ]
    }
  ]
}