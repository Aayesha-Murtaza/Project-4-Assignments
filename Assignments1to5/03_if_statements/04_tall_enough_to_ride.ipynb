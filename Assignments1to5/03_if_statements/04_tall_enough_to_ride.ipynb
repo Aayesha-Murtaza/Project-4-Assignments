{
  "nbformat": 4,
  "nbformat_minor": 0,
  "metadata": {
    "colab": {
      "provenance": [],
      "authorship_tag": "ABX9TyOrP3gP6sst63MOr72RY4gC",
      "include_colab_link": true
    },
    "kernelspec": {
      "name": "python3",
      "display_name": "Python 3"
    },
    "language_info": {
      "name": "python"
    }
  },
  "cells": [
    {
      "cell_type": "markdown",
      "metadata": {
        "id": "view-in-github",
        "colab_type": "text"
      },
      "source": [
        "<a href=\"https://colab.research.google.com/github/Aayesha-Murtaza/Project-4-Assignments/blob/main/04_tall_enough_to_ride.ipynb\" target=\"_parent\"><img src=\"https://colab.research.google.com/assets/colab-badge.svg\" alt=\"Open In Colab\"/></a>"
      ]
    },
    {
      "cell_type": "code",
      "execution_count": 8,
      "metadata": {
        "colab": {
          "base_uri": "https://localhost:8080/"
        },
        "id": "dfRQFsmuzIBV",
        "outputId": "b607bafc-28b5-46c5-80cc-0cc3ff483a63"
      },
      "outputs": [
        {
          "name": "stdout",
          "output_type": "stream",
          "text": [
            "How tall are you? 12\n",
            "You're not tall enough to ride, but maybe next year!\n",
            "How tall are you? \n"
          ]
        }
      ],
      "source": [
        "''' This program solves the extra challenge'''\n",
        "MINIMUM_HEIGHT : int = 50 # arbitrary units :)\n",
        "\n",
        "def main():\n",
        "    flag = True\n",
        "    height = input(\"How tall are you? \")\n",
        "    while flag:\n",
        "      if float(height) >= MINIMUM_HEIGHT:\n",
        "        print(\"You're tall enough to ride!\")\n",
        "      else:\n",
        "        print(\"You're not tall enough to ride, but maybe next year!\")\n",
        "      height = input(\"How tall are you? \")\n",
        "      if height == '':\n",
        "        flag = False\n",
        "\n",
        "\n",
        "# There is no need to edit code beyond this point\n",
        "\n",
        "if __name__ == '__main__':\n",
        "    main()"
      ]
    }
  ]
}