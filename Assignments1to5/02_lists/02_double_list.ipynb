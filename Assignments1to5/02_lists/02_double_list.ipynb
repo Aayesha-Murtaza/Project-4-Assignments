{
  "nbformat": 4,
  "nbformat_minor": 0,
  "metadata": {
    "colab": {
      "provenance": [],
      "authorship_tag": "ABX9TyOYlt8pwMk6SKr4rYuq29wn",
      "include_colab_link": true
    },
    "kernelspec": {
      "name": "python3",
      "display_name": "Python 3"
    },
    "language_info": {
      "name": "python"
    }
  },
  "cells": [
    {
      "cell_type": "markdown",
      "metadata": {
        "id": "view-in-github",
        "colab_type": "text"
      },
      "source": [
        "<a href=\"https://colab.research.google.com/github/Aayesha-Murtaza/Project-4-Assignments/blob/main/02_double_list.ipynb\" target=\"_parent\"><img src=\"https://colab.research.google.com/assets/colab-badge.svg\" alt=\"Open In Colab\"/></a>"
      ]
    },
    {
      "cell_type": "code",
      "execution_count": 3,
      "metadata": {
        "colab": {
          "base_uri": "https://localhost:8080/"
        },
        "id": "VO9BA7bny3RA",
        "outputId": "2154273c-7953-4630-8466-4e41834b34e8"
      },
      "outputs": [
        {
          "output_type": "stream",
          "name": "stdout",
          "text": [
            "[2, 4, 6, 8]\n"
          ]
        }
      ],
      "source": [
        "def main():\n",
        "    numbers: list[int] = [1, 2, 3, 4]  # Creates a list of numbers\n",
        "\n",
        "    for i in range(len(numbers)):  # Loop through the indices of the list\n",
        "        # elem_at_index = numbers[i]\n",
        "        numbers[i] = numbers[i]  * 2\n",
        "\n",
        "    print(numbers)\n",
        "\n",
        "\n",
        "# There is no need to edit code beyond this point\n",
        "\n",
        "if __name__ == '__main__':\n",
        "    main()"
      ]
    },
    {
      "cell_type": "code",
      "source": [],
      "metadata": {
        "id": "oRSolAuyzDhj"
      },
      "execution_count": null,
      "outputs": []
    }
  ]
}