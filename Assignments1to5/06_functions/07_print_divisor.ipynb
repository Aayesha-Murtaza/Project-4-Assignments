{
  "nbformat": 4,
  "nbformat_minor": 0,
  "metadata": {
    "colab": {
      "provenance": [],
      "authorship_tag": "ABX9TyMh4OY87i4jbvkED727Xvbq",
      "include_colab_link": true
    },
    "kernelspec": {
      "name": "python3",
      "display_name": "Python 3"
    },
    "language_info": {
      "name": "python"
    }
  },
  "cells": [
    {
      "cell_type": "markdown",
      "metadata": {
        "id": "view-in-github",
        "colab_type": "text"
      },
      "source": [
        "<a href=\"https://colab.research.google.com/github/Aayesha-Murtaza/Project-4-Assignments/blob/main/07_print_divisor.ipynb\" target=\"_parent\"><img src=\"https://colab.research.google.com/assets/colab-badge.svg\" alt=\"Open In Colab\"/></a>"
      ]
    },
    {
      "cell_type": "code",
      "execution_count": 1,
      "metadata": {
        "colab": {
          "base_uri": "https://localhost:8080/"
        },
        "id": "utPJrA9QwB6j",
        "outputId": "5a777a74-163f-4966-d4f1-a712f2e889e8"
      },
      "outputs": [
        {
          "output_type": "stream",
          "name": "stdout",
          "text": [
            "Enter a number: 9\n",
            "Here are the divisors of 9\n",
            "1\n",
            "3\n",
            "9\n"
          ]
        }
      ],
      "source": [
        "def print_divisors(num: int):\n",
        "    print(\"Here are the divisors of\", num)\n",
        "    for i in range(num):\n",
        "        curr_divisor = i + 1\n",
        "        if num % curr_divisor == 0:\n",
        "            print(curr_divisor)\n",
        "\n",
        "def main():\n",
        "    num = int(input(\"Enter a number: \"))\n",
        "    print_divisors(num)\n",
        "\n",
        "\n",
        "# There is no need to edit code beyond this point\n",
        "\n",
        "if __name__ == '__main__':\n",
        "    main()"
      ]
    }
  ]
}