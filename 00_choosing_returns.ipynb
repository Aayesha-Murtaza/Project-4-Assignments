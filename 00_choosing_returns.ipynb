{
  "nbformat": 4,
  "nbformat_minor": 0,
  "metadata": {
    "colab": {
      "provenance": [],
      "authorship_tag": "ABX9TyP5QDoKJxlo6CBxhBX6VNQm"
    },
    "kernelspec": {
      "name": "python3",
      "display_name": "Python 3"
    },
    "language_info": {
      "name": "python"
    }
  },
  "cells": [
    {
      "cell_type": "code",
      "execution_count": 1,
      "metadata": {
        "colab": {
          "base_uri": "https://localhost:8080/"
        },
        "id": "lB0vZpPi3Ac7",
        "outputId": "70457392-4d01-4cc5-95f5-e48813dbafb0"
      },
      "outputs": [
        {
          "output_type": "stream",
          "name": "stdout",
          "text": [
            "How old is this person?: 19\n",
            "True\n"
          ]
        }
      ],
      "source": [
        "ADULT_AGE : int = 18 # U.S. age\n",
        "\n",
        "def is_adult(age: int):\n",
        "    return age >= ADULT_AGE\n",
        "\n",
        "########## No need to edit code beyond this point :) ##########\n",
        "\n",
        "def main():\n",
        "    age : str = int(input(\"How old is this person?: \"))\n",
        "    print(is_adult(age))\n",
        "\n",
        "\n",
        "if __name__ == \"__main__\":\n",
        "    main()"
      ]
    }
  ]
}