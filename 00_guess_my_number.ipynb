{
  "nbformat": 4,
  "nbformat_minor": 0,
  "metadata": {
    "colab": {
      "provenance": [],
      "authorship_tag": "ABX9TyNG2BMZ0p7gO/FdnRRso/h/",
      "include_colab_link": true
    },
    "kernelspec": {
      "name": "python3",
      "display_name": "Python 3"
    },
    "language_info": {
      "name": "python"
    }
  },
  "cells": [
    {
      "cell_type": "markdown",
      "metadata": {
        "id": "view-in-github",
        "colab_type": "text"
      },
      "source": [
        "<a href=\"https://colab.research.google.com/github/Aayesha-Murtaza/Project-4-Assignments/blob/main/00_guess_my_number.ipynb\" target=\"_parent\"><img src=\"https://colab.research.google.com/assets/colab-badge.svg\" alt=\"Open In Colab\"/></a>"
      ]
    },
    {
      "cell_type": "code",
      "execution_count": 4,
      "metadata": {
        "colab": {
          "base_uri": "https://localhost:8080/"
        },
        "id": "CMJfTl0OQpyA",
        "outputId": "764007ad-0b91-4008-a75a-bcf6e9e5bedc"
      },
      "outputs": [
        {
          "output_type": "stream",
          "name": "stdout",
          "text": [
            "I am thinking of a number between 1 and 99...\n",
            "Enter a guess: 12\n",
            "Your guess is too low\n",
            "\n",
            "Enter a new guess: 45\n",
            "Your guess is too high\n",
            "\n",
            "Enter a new guess: 33\n",
            "Your guess is too low\n",
            "\n",
            "Enter a new guess: 35\n",
            "Your guess is too low\n",
            "\n",
            "Enter a new guess: \n",
            "Exiting game...\n"
          ]
        }
      ],
      "source": [
        "\"\"\" This is the modified version that lets the user exit if they enter nothing! \"\"\"\n",
        "import random\n",
        "\n",
        "def main():\n",
        "    # Generate the secret number at random!\n",
        "    secret_number = random.randint(1, 99)\n",
        "\n",
        "    print(\"I am thinking of a number between 1 and 99...\")\n",
        "\n",
        "    # Get user's guess\n",
        "    guess = input(\"Enter a guess: \")\n",
        "    if guess == '':\n",
        "      print(\"Exiting game...\")\n",
        "    # True if guess is not equal to secret number\n",
        "    while int(guess) != secret_number:\n",
        "        if int(guess) < secret_number:  # If-statement is True if guess is less than secret number\n",
        "            print(\"Your guess is too low\")\n",
        "        else:\n",
        "            print(\"Your guess is too high\")\n",
        "\n",
        "        print() # Print an empty line to tidy up the console for new guesses\n",
        "        guess = input(\"Enter a new guess: \")  # Get a new guess from the user\n",
        "        if guess == '':\n",
        "          print(\"Exiting game...\")\n",
        "          break\n",
        "\n",
        "        if int(guess) == secret_number:\n",
        "          print(\"Congrats! The number was: \" + str(secret_number))\n",
        "\n",
        "if __name__ == '__main__':\n",
        "    main()"
      ]
    }
  ]
}