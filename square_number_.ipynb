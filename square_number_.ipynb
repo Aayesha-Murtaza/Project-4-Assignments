{
  "nbformat": 4,
  "nbformat_minor": 0,
  "metadata": {
    "colab": {
      "provenance": [],
      "authorship_tag": "ABX9TyMGy2KhA+kwHKbfG6ROzk4Y",
      "include_colab_link": true
    },
    "kernelspec": {
      "name": "python3",
      "display_name": "Python 3"
    },
    "language_info": {
      "name": "python"
    }
  },
  "cells": [
    {
      "cell_type": "markdown",
      "metadata": {
        "id": "view-in-github",
        "colab_type": "text"
      },
      "source": [
        "<a href=\"https://colab.research.google.com/github/Aayesha-Murtaza/Project-4-Assignments/blob/main/square_number_.ipynb\" target=\"_parent\"><img src=\"https://colab.research.google.com/assets/colab-badge.svg\" alt=\"Open In Colab\"/></a>"
      ]
    },
    {
      "cell_type": "code",
      "execution_count": 1,
      "metadata": {
        "colab": {
          "base_uri": "https://localhost:8080/"
        },
        "id": "UNkw_tE1LrQt",
        "outputId": "8d3f9f6a-f028-4591-f6b7-687ba143994b"
      },
      "outputs": [
        {
          "output_type": "stream",
          "name": "stdout",
          "text": [
            "Enter a number:5.5\n",
            "The square of 5.5 is 30.25\n"
          ]
        }
      ],
      "source": [
        "def main():\n",
        "  num : float = float(input(\"Enter a number:\"))\n",
        "  print(f\"The square of {num} is {num ** 2}\")\n",
        "\n",
        "if __name__ == '__main__':\n",
        "    main()"
      ]
    }
  ]
}