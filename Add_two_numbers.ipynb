{
  "nbformat": 4,
  "nbformat_minor": 0,
  "metadata": {
    "colab": {
      "provenance": [],
      "authorship_tag": "ABX9TyNxx4GpBZLyihlsKPmOFxAD",
      "include_colab_link": true
    },
    "kernelspec": {
      "name": "python3",
      "display_name": "Python 3"
    },
    "language_info": {
      "name": "python"
    }
  },
  "cells": [
    {
      "cell_type": "markdown",
      "metadata": {
        "id": "view-in-github",
        "colab_type": "text"
      },
      "source": [
        "<a href=\"https://colab.research.google.com/github/Aayesha-Murtaza/Project-4-Assignments/blob/main/Add_two_numbers.ipynb\" target=\"_parent\"><img src=\"https://colab.research.google.com/assets/colab-badge.svg\" alt=\"Open In Colab\"/></a>"
      ]
    },
    {
      "cell_type": "code",
      "execution_count": 2,
      "metadata": {
        "id": "pQnvkSV_C1F-"
      },
      "outputs": [],
      "source": [
        "def main():\n",
        "  print(\"A python program to add two numbers.\")\n",
        "  num1 = int(input(\"Enter first number:\"))\n",
        "  num2 = int(input(\"Enter second number:\"))\n",
        "  sum = num1 + num2\n",
        "  print(\"The sum is: \", str(sum), \".\")"
      ]
    },
    {
      "cell_type": "code",
      "source": [
        "if __name__ == '__main__':\n",
        "  main()"
      ],
      "metadata": {
        "colab": {
          "base_uri": "https://localhost:8080/"
        },
        "id": "qunZ3slIDFtH",
        "outputId": "a68b072b-da77-4320-8503-4dd819b61774"
      },
      "execution_count": 3,
      "outputs": [
        {
          "output_type": "stream",
          "name": "stdout",
          "text": [
            "A python program to add two numbers.\n",
            "Enter first number:34\n",
            "Enter second number:43\n",
            "The sum is:  77 .\n"
          ]
        }
      ]
    }
  ]
}