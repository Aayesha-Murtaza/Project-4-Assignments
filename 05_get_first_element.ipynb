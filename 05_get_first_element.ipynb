{
  "nbformat": 4,
  "nbformat_minor": 0,
  "metadata": {
    "colab": {
      "provenance": [],
      "authorship_tag": "ABX9TyPuaqa+fumMSb6O5FtvDYWp",
      "include_colab_link": true
    },
    "kernelspec": {
      "name": "python3",
      "display_name": "Python 3"
    },
    "language_info": {
      "name": "python"
    }
  },
  "cells": [
    {
      "cell_type": "markdown",
      "metadata": {
        "id": "view-in-github",
        "colab_type": "text"
      },
      "source": [
        "<a href=\"https://colab.research.google.com/github/Aayesha-Murtaza/Project-4-Assignments/blob/main/05_get_first_element.ipynb\" target=\"_parent\"><img src=\"https://colab.research.google.com/assets/colab-badge.svg\" alt=\"Open In Colab\"/></a>"
      ]
    },
    {
      "cell_type": "code",
      "execution_count": 3,
      "metadata": {
        "colab": {
          "base_uri": "https://localhost:8080/"
        },
        "id": "-c3KxWPOJDUi",
        "outputId": "d2dfff8f-4c29-4329-e1dd-432f480625cd"
      },
      "outputs": [
        {
          "output_type": "stream",
          "name": "stdout",
          "text": [
            "Please enter an element of the list or press enter to stop. would\n",
            "Please enter an element of the list or press enter to stop. you\n",
            "Please enter an element of the list or press enter to stop. like\n",
            "Please enter an element of the list or press enter to stop. a \n",
            "Please enter an element of the list or press enter to stop. coffee?\n",
            "Please enter an element of the list or press enter to stop. \n",
            "The first element is:  would\n"
          ]
        }
      ],
      "source": [
        "\n",
        "def get_first_element(lst):\n",
        "    \"\"\"\n",
        "    Prints the first element of a provided list.\n",
        "    \"\"\"\n",
        "    print(\"The first element is: \", lst[0])\n",
        "\n",
        "# There is no need to edit code beyond this point\n",
        "\n",
        "def get_lst():\n",
        "    \"\"\"\n",
        "    Prompts the user to enter one element of the list at a time and returns the resulting list.\n",
        "    \"\"\"\n",
        "    lst = []\n",
        "    elem: str = input(\"Please enter an element of the list or press enter to stop. \")\n",
        "    while elem != \"\":\n",
        "        lst.append(elem)\n",
        "        elem = input(\"Please enter an element of the list or press enter to stop. \")\n",
        "    return lst\n",
        "\n",
        "def main():\n",
        "    lst = get_lst()\n",
        "    get_first_element(lst)\n",
        "\n",
        "\n",
        "if __name__ == '__main__':\n",
        "    main()\n",
        "\n"
      ]
    },
    {
      "cell_type": "code",
      "source": [],
      "metadata": {
        "id": "OyCDbZ1sKiGc"
      },
      "execution_count": null,
      "outputs": []
    }
  ]
}