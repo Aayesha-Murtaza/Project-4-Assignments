{
  "nbformat": 4,
  "nbformat_minor": 0,
  "metadata": {
    "colab": {
      "provenance": [],
      "authorship_tag": "ABX9TyOqE74AP2+fPUpSS6J1zobw",
      "include_colab_link": true
    },
    "kernelspec": {
      "name": "python3",
      "display_name": "Python 3"
    },
    "language_info": {
      "name": "python"
    }
  },
  "cells": [
    {
      "cell_type": "markdown",
      "metadata": {
        "id": "view-in-github",
        "colab_type": "text"
      },
      "source": [
        "<a href=\"https://colab.research.google.com/github/Aayesha-Murtaza/Project-4-Assignments/blob/main/02_in_range.ipynb\" target=\"_parent\"><img src=\"https://colab.research.google.com/assets/colab-badge.svg\" alt=\"Open In Colab\"/></a>"
      ]
    },
    {
      "cell_type": "code",
      "execution_count": 6,
      "metadata": {
        "colab": {
          "base_uri": "https://localhost:8080/"
        },
        "id": "bN5-IjpV4XSm",
        "outputId": "7199d0e7-8c8c-42c6-ab2b-7b882bea60c5"
      },
      "outputs": [
        {
          "output_type": "stream",
          "name": "stdout",
          "text": [
            "Enter a number:4\n",
            "Enter a range:\n",
            "Enter low range:2\n",
            "Enter high range:5\n",
            "The given number is inclusive:  True\n"
          ]
        }
      ],
      "source": [
        "def in_range(n, low, high):\n",
        "  return  n >= low and n <= high\n",
        "  \"\"\"\n",
        "  Returns True if n is between low and high, inclusive.\n",
        "  high is guaranteed to be greater than low.\n",
        "  \"\"\"\n",
        "\n",
        "\n",
        "    # we could have also included an else statement, but since we are returning, it's fine without!\n",
        "\n",
        "\n",
        "def main():\n",
        "  num = int(input(\"Enter a number:\"))\n",
        "  print(\"Enter a range:\")\n",
        "  low = int(input(\"Enter low range:\"))\n",
        "  high = int(input(\"Enter high range:\"))\n",
        "  while not(high > low):\n",
        "     print(\"High range shouldn't be less than or equal to low range! \")\n",
        "     high = int(input(\"Enter high range:\"))\n",
        "\n",
        "  print(\"The given number is inclusive: \", in_range(num, low, high))\n",
        "\n",
        "if __name__ == '__main__':\n",
        "  main()"
      ]
    }
  ]
}